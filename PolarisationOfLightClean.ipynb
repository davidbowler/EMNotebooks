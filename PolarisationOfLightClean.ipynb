{
 "cells": [
  {
   "cell_type": "markdown",
   "id": "f8dee87a",
   "metadata": {},
   "source": [
    "# Polarization of light\n",
    "\n",
    "We will plot the components of electric fields with different polarizations, to illustrate the role of phase and magnitude of the field components (note that the same behaviour occurs in the magnetic fields).  For a wave propagating in the $z$ direction, i.e. with wavevector $\\mathbf{k} = (0,0,k_{z})$, the electric field takes the general form:\n",
    "\n",
    "$$\\mathbf{E}(\\mathbf{r}) = \\mathbf{E}_0 \\exp i\\left(k_{z}z - \\omega t + \\phi_{x}\\right)$$\n",
    "\n",
    "where the electric field vector is confined to the $x-y$ plane (the field is always perpendicular to the wavevector).  The vector prefactor $\\mathbf{E}_0$ determines the relative magnitudes of the $x$- and $y$-components of the field, as well as their phase.  If we take the real part (as this is what is physical) and resolve the prefactor, then we can write the components of the field as:\n",
    "\n",
    "$$E_{x} = E_{0x}\\cos(k_{z}z - \\omega t + \\phi_x)$$\n",
    "$$E_{y} = E_{0y}\\cos(k_{z}z - \\omega t + \\phi_x - \\phi)$$\n",
    "\n",
    "where $\\phi$ is the phase difference between the components of the field, and $\\phi_x$ is an overall phase offset which determines the wave phase at $t=0$ (note that I left the phases in the prefactor in the first equation in the notes).\n",
    "\n",
    "Throughout these notes, I'm going to leave $\\phi_x = 0$ as it only changes the starting point of the waves; feel free to change it and explore the effect; the important quantity is $\\phi$."
   ]
  },
  {
   "cell_type": "code",
   "execution_count": null,
   "id": "42d5e4ee",
   "metadata": {},
   "outputs": [],
   "source": [
    "%matplotlib inline\n",
    "import numpy as np\n",
    "import matplotlib.pyplot as plt"
   ]
  },
  {
   "cell_type": "code",
   "execution_count": null,
   "id": "0245f057",
   "metadata": {},
   "outputs": [],
   "source": [
    "# Set period and wavevector \n",
    "k = np.array((0.0,0.0,2*np.pi))     # Units of 1/m, gives wavelength of 1m, propagating along z\n",
    "omega = 2*np.pi                     # radians/s\n",
    "period = 2*np.pi/omega              # s\n",
    "\n",
    "# Set up time as an array, covering two periods; we will pick a point in space\n",
    "n_points = 1001\n",
    "total_t = 2*period\n",
    "time = np.linspace(0,total_t,n_points)\n",
    "\n",
    "# Choose an arbitrary position while time varies; we can of course vary position as well\n",
    "pos = np.array((0.0,0.0,1.0))"
   ]
  },
  {
   "cell_type": "markdown",
   "id": "970ba0ea",
   "metadata": {},
   "source": [
    "## Linear polarisation\n",
    "\n",
    "We will start with a phase difference of $\\phi = 0$ between the $x$- and $y$-components of the field, and also set the overall phase difference $\\phi_x = 0$.  We'll assume different prefactors $E_{0x}$ and $E_{0y}$"
   ]
  },
  {
   "cell_type": "code",
   "execution_count": null,
   "id": "58346d7b",
   "metadata": {},
   "outputs": [],
   "source": [
    "phi_lin = 0\n",
    "phi_x_lin = 0\n",
    "E0x_lin = 1.0 # V/m\n",
    "E0y_lin = 2.0 # V/m\n",
    "Ex_lin = E0x_lin*np.cos(np.dot(k,pos) - omega*time+phi_x_lin)\n",
    "Ey_lin = E0y_lin*np.cos(np.dot(k,pos) - omega*time+phi_x_lin - phi_lin)"
   ]
  },
  {
   "cell_type": "markdown",
   "id": "fa0737c8",
   "metadata": {},
   "source": [
    "We'll plot the components against time first of all; it's clear that they are in phase with each other."
   ]
  },
  {
   "cell_type": "code",
   "execution_count": null,
   "id": "b8faf560",
   "metadata": {},
   "outputs": [],
   "source": [
    "plt.plot(time,Ex_lin,label=r'$E_{x}$')\n",
    "plt.plot(time,Ey_lin,label=r'$E_{y}$')\n",
    "plt.xlabel(\"Time (s)\")\n",
    "plt.ylabel(\"Amplitude (V/m)\")\n",
    "plt.axhline(c='k',lw=0.5)\n",
    "plt.title(\"Field components of linearly polarized light\")\n",
    "plt.legend()"
   ]
  },
  {
   "cell_type": "markdown",
   "id": "16a0c991",
   "metadata": {},
   "source": [
    "Now we'll plot the fields in the x-y plane (as if we were looking along the direction of propagation).  I'm setting up the axes so that they have the same scale, to help show the pattern that the fields make."
   ]
  },
  {
   "cell_type": "code",
   "execution_count": null,
   "id": "8863e388",
   "metadata": {},
   "outputs": [],
   "source": [
    "plt.plot(Ex_lin,Ey_lin)\n",
    "plt.axis('scaled')\n",
    "plt.xlabel(r'$E_x$')\n",
    "plt.ylabel(r'$E_y$')\n",
    "plt.axhline(c='k',lw=0.5)\n",
    "plt.axvline(c='k',lw=0.5)\n",
    "plt.title('Electric field components for linear polarisation')"
   ]
  },
  {
   "cell_type": "markdown",
   "id": "808194be",
   "metadata": {},
   "source": [
    "The angle that the line makes with the respect to the x-axis is determined by the relative sizes of the field components, $E_{0x}$ and $E_{0y}$.  You might like to experiment with the effect of changing these numbers to help understand this.\n",
    "\n",
    "## Circular polarisation\n",
    "\n",
    "Here we have an even more specialised case than for linear polarisation: the phase difference $\\phi = \\pi/2$ or $3\\pi/2$, and the field components have identical magnitude: $E_{0x} = E_{0y}$."
   ]
  },
  {
   "cell_type": "code",
   "execution_count": null,
   "id": "df06fa5d",
   "metadata": {},
   "outputs": [],
   "source": [
    "phi_circ = np.pi/2\n",
    "phi_x_circ = 0\n",
    "E0x_circ = 1.0 # V/m\n",
    "E0y_circ = 1.0 # V/m\n",
    "Ex_circ = E0x_circ*np.cos(np.dot(k,pos) - omega*time+phi_x_circ)\n",
    "Ey_circ = E0y_circ*np.cos(np.dot(k,pos) - omega*time+phi_x_circ - phi_circ)"
   ]
  },
  {
   "cell_type": "code",
   "execution_count": null,
   "id": "d7df02a9",
   "metadata": {},
   "outputs": [],
   "source": [
    "plt.plot(time,Ex_circ,label=r'$E_{x}$')\n",
    "plt.plot(time,Ey_circ,label=r'$E_{y}$')\n",
    "plt.xlabel(\"Time (s)\")\n",
    "plt.ylabel(\"Amplitude (V/m)\")\n",
    "plt.axhline(c='k',lw=0.5)\n",
    "plt.title(f\"Field components of circularly polarized light, $\\phi$={phi_circ/np.pi}$\\pi$\")\n",
    "plt.legend()"
   ]
  },
  {
   "cell_type": "markdown",
   "id": "37bba356",
   "metadata": {},
   "source": [
    "This behaviour is what we expect with a $\\pi/2$ phase difference; it's much clearer when we plot in the $x-y$ plane:"
   ]
  },
  {
   "cell_type": "code",
   "execution_count": null,
   "id": "b29cf118",
   "metadata": {},
   "outputs": [],
   "source": [
    "# Plot field in x-y plane\n",
    "plt.plot(Ex_circ,Ey_circ)\n",
    "\n",
    "# Plot the field at a set of specific times (snapshots) with points\n",
    "dt = total_t/(n_points-1)\n",
    "t_snap = 0\n",
    "plt.plot(Ex_circ[t_snap],Ey_circ[t_snap],'o',label='t=0')\n",
    "t_snap = int((np.pi/6)/(omega*dt))\n",
    "plt.plot(Ex_circ[t_snap],Ey_circ[t_snap],'o',label=r'$\\omega$t = $\\pi$/6')\n",
    "t_snap = int((np.pi/3)/(omega*dt))\n",
    "plt.plot(Ex_circ[t_snap],Ey_circ[t_snap],'o',label=r'$\\omega$t = $\\pi$/3')\n",
    "t_snap = int((np.pi/2)/(omega*dt))\n",
    "plt.plot(Ex_circ[t_snap],Ey_circ[t_snap],'o',label=r'$\\omega$t = $\\pi$/2')\n",
    "\n",
    "# Add axis labels etc\n",
    "plt.axhline(c='k',lw=0.5)\n",
    "plt.axvline(c='k',lw=0.5)\n",
    "plt.axis('scaled')\n",
    "plt.xlabel(r'$E_x$')\n",
    "plt.ylabel(r'$E_y$')\n",
    "plt.title(f'Electric field components for circular polarisation, $\\phi$={phi_circ/np.pi}$\\pi$')\n",
    "plt.legend()"
   ]
  },
  {
   "cell_type": "markdown",
   "id": "7275735e",
   "metadata": {},
   "source": [
    "We see that the field vectors trace out a circle over time, as we expect from the form of the equations (if the $x$-component is a cosine, then with a $\\pi/2$ phase difference the $y$-component will be a sine, and these are the standard equations for circular motion).  I have added points at successive times so that we can see the direction (clockwise for $\\phi=\\pi/2$).  You might like to think about what would happen for $\\phi=3\\pi/2$, and then change the value above and rerun."
   ]
  },
  {
   "cell_type": "markdown",
   "id": "9b8342c0",
   "metadata": {},
   "source": [
    "## Elliptically polarized light\n",
    "\n",
    "This is the most common form of polarization, found when either the components of the field have different amplitudes, or the phase difference is not exactly $0, \\pi/2, \\pi$ or $3\\pi/2$, or both.  We'll start with a phase difference of $\\pi/2$ and *different amplitudes* for the components of the field."
   ]
  },
  {
   "cell_type": "code",
   "execution_count": null,
   "id": "d6401ede",
   "metadata": {},
   "outputs": [],
   "source": [
    "phi_ell1 = np.pi/2\n",
    "phi_x_ell1 = 0\n",
    "E0x_ell1 = 1.0 # V/m\n",
    "E0y_ell1 = 2.0 # V/m\n",
    "Ex_ell1 = E0x_ell1*np.cos(np.dot(k,pos) - omega*time+phi_x_ell1)\n",
    "Ey_ell1 = E0y_ell1*np.cos(np.dot(k,pos) - omega*time+phi_x_ell1 - phi_ell1)"
   ]
  },
  {
   "cell_type": "code",
   "execution_count": null,
   "id": "3ad20708",
   "metadata": {},
   "outputs": [],
   "source": [
    "plt.plot(time,Ex_ell1,label=r'$E_{x}$')\n",
    "plt.plot(time,Ey_ell1,label=r'$E_{y}$')\n",
    "plt.xlabel(\"Time (s)\")\n",
    "plt.ylabel(\"Amplitude (V/m)\")\n",
    "plt.axhline(c='k',lw=0.5)\n",
    "plt.title(f'Field components of elliptically polarized light, $\\phi$={phi_ell1/np.pi}$\\pi, E_y/E_x=${E0y_ell1/E0x_ell1}') #', $E_x\\ne E_y$')\n",
    "plt.legend()"
   ]
  },
  {
   "cell_type": "code",
   "execution_count": null,
   "id": "15de3b54",
   "metadata": {},
   "outputs": [],
   "source": [
    "plt.plot(Ex_ell1,Ey_ell1)\n",
    "plt.axis('scaled')\n",
    "plt.xlabel(r'$E_x$')\n",
    "plt.ylabel(r'$E_y$')\n",
    "plt.axhline(c='k',lw=0.5)\n",
    "plt.axvline(c='k',lw=0.5)\n",
    "plt.title(f'Field components for elliptically polarized light, $\\phi$={phi_ell1/np.pi}$\\pi, E_y/E_x=${E0y_ell1/E0x_ell1}') #', $E_x\\ne E_y$')"
   ]
  },
  {
   "cell_type": "markdown",
   "id": "079dbe45",
   "metadata": {},
   "source": [
    "Now we will consider the *same amplitudes*, but a phase difference which is away from the exact values specified above."
   ]
  },
  {
   "cell_type": "code",
   "execution_count": null,
   "id": "6fb779fb",
   "metadata": {},
   "outputs": [],
   "source": [
    "phi_ell2 = 0.18*np.pi # No real significance to the factor; just not 0, 0.5, 1.0 or 1.5\n",
    "phi_x_ell2 = 0\n",
    "E0x_ell2 = 1.0 # V/m\n",
    "E0y_ell2 = 1.0 # V/m\n",
    "Ex_ell2 = E0x_ell2*np.cos(np.dot(k,pos) - omega*time+phi_x_ell2)\n",
    "Ey_ell2 = E0y_ell2*np.cos(np.dot(k,pos) - omega*time+phi_x_ell2 - phi_ell2)"
   ]
  },
  {
   "cell_type": "code",
   "execution_count": null,
   "id": "1e3dc9a6",
   "metadata": {},
   "outputs": [],
   "source": [
    "plt.plot(time,Ex_ell2,label=r'$E_{x}$')\n",
    "plt.plot(time,Ey_ell2,label=r'$E_{y}$')\n",
    "plt.xlabel(\"Time (s)\")\n",
    "plt.ylabel(\"Amplitude (V/m)\")\n",
    "plt.axhline(c='k',lw=0.5)\n",
    "plt.title(f'Field components of elliptically polarized light, $\\phi$={phi_ell2/np.pi}$\\pi, E_y/E_x=${E0y_ell2/E0x_ell2}') #', $E_x\\ne E_y$')\n",
    "plt.legend()"
   ]
  },
  {
   "cell_type": "code",
   "execution_count": null,
   "id": "8ac2717d",
   "metadata": {},
   "outputs": [],
   "source": [
    "plt.plot(Ex_ell2,Ey_ell2)\n",
    "plt.axis('scaled')\n",
    "plt.xlabel(r'$E_x$')\n",
    "plt.ylabel(r'$E_y$')\n",
    "plt.axhline(c='k',lw=0.5)\n",
    "plt.axvline(c='k',lw=0.5)\n",
    "plt.title(f'Field components of elliptically polarized light, $\\phi$={phi_ell1/np.pi}$\\pi, E_y/E_x=${E0y_ell1/E0x_ell1}') #', $E_x\\ne E_y$')"
   ]
  },
  {
   "cell_type": "markdown",
   "id": "894c738f",
   "metadata": {},
   "source": [
    "Here, the angle that the ellipse makes with $x$-axis is determined by the ratio of the amplitudes of the field components, $E_{0x}$ and $E_{0y}$, while the difference between the semi-major and semi-minor axes of the ellipse (how far away from circular the ellipse is) is determined by the phase difference $\\phi$.  I would encourage you to explore how these variables, `phi_ell2`, `E0x_ell2`, and `E0y_ell2`, affect the appearance of the ellipse (here, or below, where we consider the general case)."
   ]
  },
  {
   "cell_type": "markdown",
   "id": "16c226d7",
   "metadata": {},
   "source": [
    "## General elliptical polarization\n",
    "\n",
    "Now I will plot a case where the field components have different magnitudes, and the phase difference is not one of the four special values."
   ]
  },
  {
   "cell_type": "code",
   "execution_count": null,
   "id": "1c725bb9",
   "metadata": {},
   "outputs": [],
   "source": [
    "phi_ell3 = 0.31*np.pi # No significance to the factor; just not 0, 0.5, 1.0 or 1.5\n",
    "phi_x_ell3 = 0.0\n",
    "E0x_ell3 = 2.0\n",
    "E0y_ell3 = 1.0\n",
    "Ex_ell3 = E0x_ell3*np.cos(np.dot(k,pos) - omega*time+phi_x_ell3)\n",
    "Ey_ell3 = E0y_ell3*np.cos(np.dot(k,pos) - omega*time+phi_x_ell3 - phi_ell3)"
   ]
  },
  {
   "cell_type": "code",
   "execution_count": null,
   "id": "203b4612",
   "metadata": {},
   "outputs": [],
   "source": [
    "plt.plot(Ex_ell3,Ey_ell3)\n",
    "plt.axis('scaled')\n",
    "plt.xlabel(r'$E_x$')\n",
    "plt.ylabel(r'$E_y$')\n",
    "plt.axhline(c='k',lw=0.5)\n",
    "plt.axvline(c='k',lw=0.5)\n",
    "plt.title(f'Field components of elliptically polarized light, $\\phi$={phi_ell3/np.pi}$\\pi, E_y/E_x=${E0y_ell3/E0x_ell3}') #', $E_x\\ne E_y$')"
   ]
  },
  {
   "cell_type": "markdown",
   "id": "a762afbc",
   "metadata": {},
   "source": [
    "## Time evolution of the electric field vector\n",
    "\n",
    "The final thing that we will consider is how the field vector evolves in time: so far we have been plotting in such a way that this cannot be seen.  I will plot a set of snapshots of the field vector, with the overall path shown for clarity, so that you can see how this evolves over time.  (It is possible to animate things in python, and you are welcome to try if you would like, but I often find that this can hide some information.)\n",
    "\n",
    "I will show the overall path with a continuous line, and the position of the tip of the electric field vector at a specific time with a dot."
   ]
  },
  {
   "cell_type": "code",
   "execution_count": null,
   "id": "3f9ad282",
   "metadata": {},
   "outputs": [],
   "source": [
    "dt = total_t/(n_points-1)\n",
    "fig_time = plt.figure(figsize=(12,6))\n",
    "index = 1\n",
    "\n",
    "# Iterate over points in time and plot at specific points\n",
    "for i in range(0,n_points,100):\n",
    "    ax = fig_time.add_subplot(3,4,index,aspect='equal')\n",
    "    ax.plot(Ex_ell3,Ey_ell3)\n",
    "    ax.plot(Ex_ell3[i],Ey_ell3[i],'o')\n",
    "    ax.axhline(c='k',lw=0.5)\n",
    "    ax.axvline(c='k',lw=0.5)\n",
    "    ax.set_title(f\"Time {i*dt:3.1f}s\")\n",
    "    index += 1"
   ]
  },
  {
   "cell_type": "markdown",
   "id": "198c4aac",
   "metadata": {},
   "source": [
    "Using this kind of plot, you could experiment with the effect of the overall phase, $\\phi_x$: you should see that the *starting* point of the wave changes (moves to a different point on the ellipse) but nothing else does.  This is set by the variable `phi_x_ell3` above (and similar variables earlier)."
   ]
  },
  {
   "cell_type": "markdown",
   "id": "d84c79a2",
   "metadata": {},
   "source": [
    "## Plotting in 3D\n",
    "\n",
    "Finally, I provide some plots where we can see the path that the tip of the wavevector takes in 3D.  It took a while to find a clear way to do this: it can be very dependent on viewpoint, and it's easy to lose context.  What I have done is to plot the path of the wave in 3D as well as *projections* in different directions so that you can effectively combine all the plots above in one.  The z axis in this case is effectively time *and* the z coordinate (since the waves are propagating along z).\n",
    "\n",
    "In all these plots, you can adjust the viewing angle by changing the command `ax3dN.view_init(20,80)` (where `N` refers to the particular plot).\n",
    "\n",
    "### Linear polarization\n",
    "\n",
    "This is most straightforward: we get the cosine shape that is expect as the electric field is confined to a single plane."
   ]
  },
  {
   "cell_type": "code",
   "execution_count": null,
   "id": "a2d1bac5",
   "metadata": {},
   "outputs": [],
   "source": [
    "# Set up 3D figure\n",
    "fig_3d1 = plt.figure()\n",
    "ax3d1 = fig_3d1.add_subplot(111,projection='3d')\n",
    "\n",
    "# Viewpoint (elevation, azimuth) and axis limits\n",
    "ax3d1.view_init(20,80)\n",
    "ax3d1.set_xlim(-2,2)\n",
    "ax3d1.set_ylim(-2,2)\n",
    "\n",
    "# These lines will serve as zero axes to aid the eye\n",
    "linexy = np.linspace(-2,2,2)\n",
    "linez = np.linspace(0,2,2)\n",
    "linezero = np.zeros(2)\n",
    "linem2 = -2*np.ones(2)\n",
    "\n",
    "# Add lines to indicate axes using thin lines with reduced alpha\n",
    "ax3d1.plot(linexy,linezero,linezero,'k-', linewidth=1,alpha=0.5)\n",
    "ax3d1.plot(linezero,linexy,linezero,'k-', linewidth=1,alpha=0.5)\n",
    "ax3d1.plot(linezero,linezero,linez,'k-', linewidth=1,alpha=0.5)\n",
    "ax3d1.plot(linem2,linezero,linez,'k-', linewidth=1,alpha=0.5)\n",
    "ax3d1.plot(linezero,linem2,linez,'k-', linewidth=1,alpha=0.5)\n",
    "\n",
    "# Plot projection of wave against time in x and y planes\n",
    "ax3d1.plot(Ex_lin,omega*time/k[2], zs=-2, zdir='y',linewidth=1,alpha=0.5,color='C0')\n",
    "ax3d1.plot(Ey_lin,omega*time/k[2], zs=-2, zdir='x',linewidth=1,alpha=0.5,color='C0')\n",
    "\n",
    "# Project wave onto x-y plane \n",
    "ax3d1.plot(Ex_lin, Ey_lin, zs=0, zdir='z',linewidth=1,alpha=0.5)\n",
    "\n",
    "# Plot wave in 3D (finally!)\n",
    "ax3d1.plot(Ex_lin,Ey_lin,omega*time/k[2])\n",
    "\n",
    "# Label axes\n",
    "ax3d1.set_xlabel('x')\n",
    "ax3d1.set_ylabel('y')\n",
    "ax3d1.set_zlabel('t')"
   ]
  },
  {
   "cell_type": "markdown",
   "id": "129d5d25",
   "metadata": {},
   "source": [
    "### Circular polarization\n",
    "\n",
    "Here we see the sinusoidal paths in x and y, but the overall circular motion (in the x-y plane) should be clear."
   ]
  },
  {
   "cell_type": "code",
   "execution_count": null,
   "id": "a3a833ad",
   "metadata": {},
   "outputs": [],
   "source": [
    "# Set up 3D figure\n",
    "fig_3d2 = plt.figure()\n",
    "ax3d2 = fig_3d2.add_subplot(111,projection='3d')\n",
    "\n",
    "# Viewpoint (elevation, azimuth) and axis limits\n",
    "ax3d2.view_init(20,80)\n",
    "ax3d2.set_xlim(-2,2)\n",
    "ax3d2.set_ylim(-2,2)\n",
    "\n",
    "# Add lines to indicate axes using thin lines with reduced alpha\n",
    "ax3d2.plot(linexy,linezero,linezero,'k-', linewidth=1,alpha=0.5)\n",
    "ax3d2.plot(linezero,linexy,linezero,'k-', linewidth=1,alpha=0.5)\n",
    "ax3d2.plot(linezero,linezero,linez,'k-', linewidth=1,alpha=0.5)\n",
    "ax3d2.plot(linem2,linezero,linez,'k-', linewidth=1,alpha=0.5)\n",
    "ax3d2.plot(linezero,linem2,linez,'k-', linewidth=1,alpha=0.5)\n",
    "\n",
    "# Plot projection of wave against time in x and y planes\n",
    "ax3d2.plot(Ex_circ,omega*time/k[2], zs=-2, zdir='y',linewidth=1,alpha=0.5,color='C0')\n",
    "ax3d2.plot(Ey_circ,omega*time/k[2], zs=-2, zdir='x',linewidth=1,alpha=0.5,color='C0')\n",
    "\n",
    "# Project wave onto x-y plane \n",
    "ax3d2.plot(Ex_circ, Ey_circ, zs=0, zdir='z',linewidth=1,alpha=0.5)\n",
    "\n",
    "# Plot wave in 3D (finally!)\n",
    "ax3d2.plot(Ex_circ,Ey_circ,omega*time/k[2])\n",
    "\n",
    "# Label axes\n",
    "ax3d2.set_xlabel('x')\n",
    "ax3d2.set_ylabel('y')\n",
    "ax3d2.set_zlabel('t')"
   ]
  },
  {
   "cell_type": "markdown",
   "id": "7179d2a6",
   "metadata": {},
   "source": [
    "### Elliptical polarization\n",
    "\n",
    "I have chosen the final example, but you could plot `Ex_ell1` or `Ex_ell2` (and equivalent y variables) if you wanted to explore."
   ]
  },
  {
   "cell_type": "code",
   "execution_count": null,
   "id": "24336f36",
   "metadata": {},
   "outputs": [],
   "source": [
    "# Set up 3D figure\n",
    "fig_3d3 = plt.figure()\n",
    "ax3d3 = fig_3d3.add_subplot(111,projection='3d')\n",
    "\n",
    "# Viewpoint (elevation, azimuth) and axis limits\n",
    "ax3d3.view_init(20,80)\n",
    "ax3d3.set_xlim(-2,2)\n",
    "ax3d3.set_ylim(-2,2)\n",
    "\n",
    "# Add lines to indicate axes using thin lines with reduced alpha\n",
    "ax3d3.plot(linexy,linezero,linezero,'k-', linewidth=1,alpha=0.5)\n",
    "ax3d3.plot(linezero,linexy,linezero,'k-', linewidth=1,alpha=0.5)\n",
    "ax3d3.plot(linezero,linezero,linez,'k-', linewidth=1,alpha=0.5)\n",
    "ax3d3.plot(linem2,linezero,linez,'k-', linewidth=1,alpha=0.5)\n",
    "ax3d3.plot(linezero,linem2,linez,'k-', linewidth=1,alpha=0.5)\n",
    "\n",
    "# Plot projection of wave against time in x and y planes\n",
    "ax3d3.plot(Ex_ell3,omega*time/k[2], zs=-2, zdir='y',linewidth=1,alpha=0.5,color='C0')\n",
    "ax3d3.plot(Ey_ell3,omega*time/k[2], zs=-2, zdir='x',linewidth=1,alpha=0.5,color='C0')\n",
    "\n",
    "# Project wave onto x-y plane \n",
    "ax3d3.plot(Ex_ell3, Ey_ell3, zs=0, zdir='z',linewidth=1,alpha=0.5)\n",
    "\n",
    "# Plot wave in 3D (finally!)\n",
    "ax3d3.plot(Ex_ell3,Ey_ell3,omega*time/k[2])\n",
    "\n",
    "# Label axes\n",
    "ax3d3.set_xlabel('x')\n",
    "ax3d3.set_ylabel('y')\n",
    "ax3d3.set_zlabel('t')"
   ]
  },
  {
   "cell_type": "code",
   "execution_count": null,
   "id": "f4a73cfe",
   "metadata": {},
   "outputs": [],
   "source": []
  }
 ],
 "metadata": {
  "kernelspec": {
   "display_name": "Python 3 (ipykernel)",
   "language": "python",
   "name": "python3"
  },
  "language_info": {
   "codemirror_mode": {
    "name": "ipython",
    "version": 3
   },
   "file_extension": ".py",
   "mimetype": "text/x-python",
   "name": "python",
   "nbconvert_exporter": "python",
   "pygments_lexer": "ipython3",
   "version": "3.9.13"
  }
 },
 "nbformat": 4,
 "nbformat_minor": 5
}
