{
 "cells": [
  {
   "cell_type": "code",
   "execution_count": null,
   "id": "ad0464f9",
   "metadata": {},
   "outputs": [],
   "source": [
    "# Set up the python environment\n",
    "%matplotlib inline\n",
    "import numpy as np\n",
    "import matplotlib.pyplot as plt"
   ]
  },
  {
   "cell_type": "markdown",
   "id": "354c4869",
   "metadata": {},
   "source": [
    "# The Electric Dipole\n",
    "\n",
    "We will explore the electric dipole, which consists of two equal but opposite charges separated by a distance $l$.  We plot the full potential (using the sum of the simple electrostatic formulae for the individual charges) and then the approximate potential as derived in the notes using a first order expansion.\n",
    "\n",
    "To fit with the notes (and the normal choice of axes) we are assuming that we work in the $x-z$ plane.\n",
    "\n",
    "We are implicitly working in atomic units, where $1/4\\pi\\epsilon_0 = 1$ and the charge on an electron is $-1$."
   ]
  },
  {
   "cell_type": "code",
   "execution_count": null,
   "id": "c726014e",
   "metadata": {},
   "outputs": [],
   "source": [
    "# Set up the simulation space: box size and number of grid points\n",
    "Lx = 10\n",
    "Ly = 10\n",
    "npoints = 201\n",
    "\n",
    "# 2D numpy arrays in Cartesian and spherical polar coordinates\n",
    "linear_extent = np.linspace(-Lx,Lx,npoints)\n",
    "x_2d, z_2d = np.meshgrid(linear_extent, linear_extent)\n",
    "r_2d = np.sqrt(x_2d**2 + z_2d**2)\n",
    "theta_2d = np.arctan2(x_2d,z_2d)\n",
    "\n",
    "# Dipole size and related parameters\n",
    "# For near field set l close to Ly; for far field make it small\n",
    "# This shows fields near the dipole (where the approximation is poor)\n",
    "# dipole_l = 8.1\n",
    "# This shows fields far from the dipole (approximation is good)\n",
    "dipole_l = 1.1\n",
    "\n",
    "# Limit on potential plotting\n",
    "vlim = 0.1\n",
    "\n",
    "# Values for contours: adjust depending on dipole size\n",
    "# Good for near field\n",
    "#contour_values = [-.4,-.2,-.1,-0.05,-0.025,-0.0125,0.0125,0.025,0.05,.1,.2,.4]\n",
    "# Good for far field\n",
    "contour_values = [-4,-2,-1,-0.5,-0.25,-0.125,0.125,0.25,0.5,1,2,4]"
   ]
  },
  {
   "cell_type": "code",
   "execution_count": null,
   "id": "e089bd51",
   "metadata": {},
   "outputs": [],
   "source": [
    "# Position the dipole along the z axis (assume that we work with y=0)\n",
    "pos_p = np.array([0,0+dipole_l/2])\n",
    "pos_m = np.array([0,0-dipole_l/2])\n",
    "\n",
    "# Arrays containing the distance between grid point and positive and negative charges\n",
    "r_p = np.sqrt((x_2d-pos_p[0])**2 + (z_2d-pos_p[1])**2)\n",
    "r_m = np.sqrt((x_2d-pos_m[0])**2 + (z_2d-pos_m[1])**2)\n",
    "\n",
    "# Charges\n",
    "qp = 1\n",
    "qm = -1\n",
    "\n",
    "# Find potential using simple electrostatics\n",
    "pot_p = qp*np.divide(1.0,r_p,out=np.zeros_like(theta_2d),where=r_p>1e-8)\n",
    "pot_m = qm*np.divide(1.0,r_m,out=np.zeros_like(theta_2d),where=r_m>1e-8)\n",
    "pot = pot_p + pot_m\n",
    "\n",
    "# NB Use np.divide above to avoid divide by zero errors"
   ]
  },
  {
   "cell_type": "code",
   "execution_count": null,
   "id": "e8a8285b",
   "metadata": {},
   "outputs": [],
   "source": [
    "# Plot potential - choose origin consistent with extent\n",
    "plt.imshow(pot,vmin=-vlim,vmax=vlim,extent=(-10,10,-10,10),origin='lower')\n",
    "plt.colorbar(label=\"Electrostatic potential\")\n",
    "\n",
    "plt.contour(x_2d,z_2d,pot,contour_values,colors='w')\n",
    "plt.plot(pos_p[0],pos_p[1],'ro')\n",
    "plt.plot(pos_m[0],pos_m[1],'bo')\n",
    "plt.title(\"Exact potential from dipole\")\n",
    "plt.savefig(\"EDipPot.png\",dpi=300)"
   ]
  },
  {
   "cell_type": "markdown",
   "id": "3c40e960",
   "metadata": {},
   "source": [
    "## Approximate potential\n",
    "\n",
    "The approximate potential is given by:\n",
    "\n",
    "$$\\frac{ql\\cos\\theta}{r^2}$$\n",
    "\n",
    "We use the `np.divide` function below to avoid a divide by zero.  The visual appearance of the two potentials is essentially identical in the far field (say $l=0.1$) but is clearly different in the near field ($l=8.1$)."
   ]
  },
  {
   "cell_type": "code",
   "execution_count": null,
   "id": "d4a93a63",
   "metadata": {},
   "outputs": [],
   "source": [
    "# Avoid divide by zero by using np.divide function\n",
    "pot_approx = np.divide(qp*dipole_l*np.cos(theta_2d),r_2d**2,out=np.zeros_like(theta_2d),where=r_2d>1e-8)\n",
    "\n",
    "# Plot potential\n",
    "plt.imshow(pot_approx,vmin=-vlim,vmax=vlim,extent=(-10,10,-10,10),origin='lower')\n",
    "plt.colorbar()\n",
    "plt.contour(x_2d,z_2d,pot_approx,contour_values,colors='w')\n",
    "plt.plot(pos_p[0],pos_p[1],'ro')\n",
    "plt.plot(pos_m[0],pos_m[1],'bo')"
   ]
  },
  {
   "cell_type": "markdown",
   "id": "74cfb0bd",
   "metadata": {},
   "source": [
    "## Difference in potential\n",
    "\n",
    "We now plot the difference between the approximate and full potentials.  If we are in the regime where the approximation was derived ($r\\gg l$) then the difference is small, and confined to the area near the dipole."
   ]
  },
  {
   "cell_type": "code",
   "execution_count": null,
   "id": "5c596da5",
   "metadata": {},
   "outputs": [],
   "source": [
    "plt.imshow(pot_approx-pot,vmin=-vlim,vmax=vlim,extent=(-10,10,-10,10),origin='lower')\n",
    "plt.colorbar()\n",
    "plt.contour(x_2d,z_2d,pot_approx-pot,contour_values,colors='w')\n",
    "plt.plot(pos_p[0],pos_p[1],'ro')\n",
    "plt.plot(pos_m[0],pos_m[1],'bo')\n",
    "plt.title(\"Difference between approximate and full dipole potentials\")"
   ]
  },
  {
   "cell_type": "markdown",
   "id": "dd7ab490",
   "metadata": {},
   "source": [
    "## Exact field\n",
    "\n",
    "We can plot the exact field, also using simple electrostatics.  Plotting field lines can be more challenging: we include the potential plotted in colour as background."
   ]
  },
  {
   "cell_type": "code",
   "execution_count": null,
   "id": "1ac398ed",
   "metadata": {},
   "outputs": [],
   "source": [
    "# Simple electrostatics for positive and negative charges\n",
    "field_p_x = qp*np.divide(x_2d - pos_p[0],r_p**2,out=np.zeros_like(theta_2d),where=r_p>1e-8)\n",
    "field_p_z = qp*np.divide(z_2d - pos_p[1],r_p**2,out=np.zeros_like(theta_2d),where=r_p>1e-8)\n",
    "field_m_x = qm*np.divide(x_2d - pos_m[0],r_m**2,out=np.zeros_like(theta_2d),where=r_m>1e-8)\n",
    "field_m_z = qm*np.divide(z_2d - pos_m[1],r_m**2,out=np.zeros_like(theta_2d),where=r_m>1e-8)\n",
    "\n",
    "# Dipole field by summing charge fields\n",
    "field_exact_x = field_p_x + field_m_x\n",
    "field_exact_z = field_p_z + field_m_z\n",
    "\n",
    "# Potential as background\n",
    "plt.imshow(pot,vmin=-vlim,vmax=vlim,extent=(-10,10,-10,10),origin='lower')\n",
    "plt.colorbar(label=\"Electrostatic potential\")\n",
    "plt.plot(pos_p[0],pos_p[1],'ro')\n",
    "plt.plot(pos_m[0],pos_m[1],'bo')\n",
    "plt.streamplot(x_2d,z_2d,field_exact_x,field_exact_z,density=1.0,color='white')\n",
    "plt.axis('scaled')\n",
    "plt.title(\"Electric field for dipole\")\n",
    "plt.savefig(\"EDipField.png\",dpi=300)"
   ]
  },
  {
   "cell_type": "markdown",
   "id": "173b5902",
   "metadata": {},
   "source": [
    "## Approximate field\n",
    "\n",
    "The approximate field can be written in spherical polars as:\n",
    "$$E_r = 2\\frac{l\\cos\\theta}{r^3}$$\n",
    "$$E_\\theta = \\frac{l\\sin\\theta}{r^3}$$\n",
    "We then convert to Cartesian coordinates"
   ]
  },
  {
   "cell_type": "code",
   "execution_count": null,
   "id": "c5af4c95",
   "metadata": {},
   "outputs": [],
   "source": [
    "# Calculate approximate field in spherical polar coordinates\n",
    "field_r_approx = 2*np.divide(dipole_l*np.cos(theta_2d),r_2d**3,out=np.zeros_like(theta_2d),where=r_2d>1e-8)\n",
    "field_theta_approx = np.divide(dipole_l*np.sin(theta_2d),r_2d**3,out=np.zeros_like(theta_2d),where=r_2d>1e-8)\n",
    "\n",
    "# Transform to Cartesian to plot\n",
    "field_x_approx = np.sin(theta_2d)*field_r_approx + np.cos(theta_2d)*field_theta_approx\n",
    "field_z_approx = np.cos(theta_2d)*field_r_approx - np.sin(theta_2d)*field_theta_approx\n",
    "\n",
    "# Use potential as background\n",
    "plt.imshow(pot_approx,vmin=-vlim,vmax=vlim,extent=(-10,10,-10,10),origin='lower')\n",
    "plt.colorbar(label=\"Electrostatic potential\")\n",
    "plt.plot(pos_p[0],pos_p[1],'ro')\n",
    "plt.plot(pos_m[0],pos_m[1],'bo')\n",
    "plt.streamplot(x_2d,z_2d,field_x_approx,field_z_approx,density=1.0,color='white')\n",
    "plt.axis('scaled')"
   ]
  },
  {
   "cell_type": "markdown",
   "id": "4f03a534",
   "metadata": {},
   "source": [
    "How similar these will be depends on how close to the dipole we are: in the far field, they are almost identical, but in the near field they are very different.  The main areas of difference are near the dipole (where the approximation breaks down)."
   ]
  },
  {
   "cell_type": "code",
   "execution_count": null,
   "id": "80bb0d2f",
   "metadata": {},
   "outputs": [],
   "source": []
  }
 ],
 "metadata": {
  "kernelspec": {
   "display_name": "Python 3 (ipykernel)",
   "language": "python",
   "name": "python3"
  },
  "language_info": {
   "codemirror_mode": {
    "name": "ipython",
    "version": 3
   },
   "file_extension": ".py",
   "mimetype": "text/x-python",
   "name": "python",
   "nbconvert_exporter": "python",
   "pygments_lexer": "ipython3",
   "version": "3.9.13"
  }
 },
 "nbformat": 4,
 "nbformat_minor": 5
}
