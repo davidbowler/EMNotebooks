{
 "cells": [
  {
   "cell_type": "markdown",
   "id": "eb4e32ff",
   "metadata": {},
   "source": [
    "# Part 6: Reflection and Refraction\n",
    "\n",
    "We will examine aspects of reflection and refraction at an interface between dielectric materials (where one is commonly air or vacuum, but does not need to be)."
   ]
  },
  {
   "cell_type": "code",
   "execution_count": null,
   "id": "3fd3bc54",
   "metadata": {},
   "outputs": [],
   "source": [
    "%matplotlib inline\n",
    "import numpy as np\n",
    "import matplotlib.pyplot as plt"
   ]
  },
  {
   "cell_type": "markdown",
   "id": "ac6c2852",
   "metadata": {},
   "source": [
    "## Fresnel relations\n",
    "\n",
    "We consider the Fresnel relations, which give the reflection and transmission coefficients from an interface where the refractive index in the material where the wave originates is $n$ and the refractive index in the second material is $n^{\\prime}$.\n",
    "\n",
    "### Air to glass\n",
    "\n",
    "We'll start with a familiar problem: light passing from air into glass (which have refractive indices of 1 and around 1.5 respectively)."
   ]
  },
  {
   "cell_type": "code",
   "execution_count": null,
   "id": "ea7acad6",
   "metadata": {},
   "outputs": [],
   "source": [
    "# Refractive indices\n",
    "n_air = 1.0\n",
    "n_glass = 1.5\n",
    "\n",
    "# Set up angle of incidence and calculate angle of refraction\n",
    "alpha_ag = np.linspace(0,np.pi/2,1001)\n",
    "alpha_ag_prime = np.arcsin(np.sin(alpha_ag)*n_air/n_glass) # Snell's law\n",
    "\n",
    "# Find reflection and transmission coefficients (Fresnel)\n",
    "denom_para_ag = (n_glass*np.cos(alpha_ag) + n_air*np.cos(alpha_ag_prime))\n",
    "r_para_ag = (n_glass*np.cos(alpha_ag) - n_air*np.cos(alpha_ag_prime))/denom_para_ag\n",
    "t_para_ag = 2.0*n_air*np.cos(alpha_ag)/denom_para_ag\n",
    "\n",
    "denom_perp_ag = (n_air*np.cos(alpha_ag) + n_glass*np.cos(alpha_ag_prime))\n",
    "r_perp_ag = (n_air*np.cos(alpha_ag) - n_glass*np.cos(alpha_ag_prime))/denom_perp_ag\n",
    "t_perp_ag = 2.0*n_air*np.cos(alpha_ag)/denom_perp_ag"
   ]
  },
  {
   "cell_type": "code",
   "execution_count": null,
   "id": "2438012a",
   "metadata": {},
   "outputs": [],
   "source": [
    "# Construct plots in a 2x2 layout\n",
    "fig1 = plt.figure(figsize=(12,10))\n",
    "ax1 = fig1.add_subplot(2,2,1)\n",
    "ax1.plot(alpha_ag,r_para_ag,label=r'$r_{\\parallel}$')\n",
    "ax1.plot(alpha_ag,t_para_ag,label=r'$t_{\\parallel}$')\n",
    "ax1.set_xlabel('Angle (radians)')\n",
    "ax1.set_ylabel('Relative amplitude')\n",
    "ax1.axhline(c='k',lw=0.5)\n",
    "ax1.legend()\n",
    "ax1.set_title(\"Amplitude for waves parallel to plane of incidence\")\n",
    "ax2 = fig1.add_subplot(2,2,2)\n",
    "ax2.plot(alpha_ag,r_para_ag**2,label=r'$r_{\\parallel}^2$')\n",
    "ax2.plot(alpha_ag,t_para_ag**2,label=r'$t_{\\parallel}^2$')\n",
    "ax2.set_xlabel('Angle (radians)')\n",
    "ax2.set_ylabel('Relative intensity')\n",
    "ax2.axhline(c='k',lw=0.5)\n",
    "ax2.set_ylim(0,1)\n",
    "ax2.legend()\n",
    "ax2.set_title(\"Intensity for waves parallel to plane of incidence\")\n",
    "ax3 = fig1.add_subplot(2,2,3)\n",
    "ax3.plot(alpha_ag,r_perp_ag,label=r'$r_{\\perp}$')\n",
    "ax3.plot(alpha_ag,t_perp_ag,label=r'$t_{\\perp}$')\n",
    "ax3.set_xlabel('Angle (radians)')\n",
    "ax3.set_ylabel('Relative amplitude')\n",
    "ax3.axhline(c='k',lw=0.5)\n",
    "ax3.legend()\n",
    "ax3.set_title(\"Amplitude for waves perpendicular to plane of incidence\")\n",
    "ax4 = fig1.add_subplot(2,2,4)\n",
    "ax4.plot(alpha_ag,r_perp_ag**2,label=r'$r_{\\perp}^2$')\n",
    "ax4.plot(alpha_ag,t_perp_ag**2,label=r'$t_{\\perp}^2$')\n",
    "ax4.set_xlabel('Angle (radians)')\n",
    "ax4.set_ylabel('Relative intensity')\n",
    "ax4.axhline(c='k',lw=0.5)\n",
    "ax4.legend()\n",
    "ax4.set_title(\"Intensity for waves perpendicular to plane of incidence\")\n",
    "# Uncomment to output PDF\n",
    "#fig1.savefig(\"FresnelAirGlass.pdf\",format='pdf')"
   ]
  },
  {
   "cell_type": "markdown",
   "id": "26a66779",
   "metadata": {},
   "source": [
    "When looking at these plots, it is helpful to remember the conditions that must apply to the different components.  For the electric field perpendicular to the plane *of incidence* we can assert that $E_0 + E^{\\prime\\prime}_0 = E^\\prime_0$ and hence that $1 + r_{\\perp} = t_{\\perp}$.\n",
    "\n",
    "For the electric field parallel to the plane of incidence , we have that $n\\left(E_0 + E^{\\prime\\prime}_0\\right) = n^\\prime E^\\prime_0$, so that $1 + r_{\\parallel} = n^{\\prime} t_{\\parallel}/n$.  It is easy to check that these conditions hold to numerical accuracy, as is done below."
   ]
  },
  {
   "cell_type": "code",
   "execution_count": null,
   "id": "26283b6a",
   "metadata": {},
   "outputs": [],
   "source": [
    "# Use np.max on arrays of r and t values to find the maximum deviation from zero\n",
    "perp_should_be_zero_ag = 1+r_perp_ag-t_perp_ag\n",
    "print(f\"The maximum deviation for electric fields perpendicular to the plane of incidence is {np.max(np.abs(perp_should_be_zero_ag)):12.5e}\")\n",
    "para_should_be_zero_ag = 1+r_para_ag-n_glass*t_para_ag/n_air\n",
    "print(f\"The maximum deviation for electric fields parallel to the plane of incidence is {np.max(np.abs(para_should_be_zero_ag)):12.5e}\")"
   ]
  },
  {
   "cell_type": "markdown",
   "id": "e2c9d25c",
   "metadata": {},
   "source": [
    "### Glass to air\n",
    "\n",
    "Now for the transition from glass to air we have $n>n^{\\prime}$ so we must find the critical angle; beyond this incident angle, we can't solve the equations."
   ]
  },
  {
   "cell_type": "code",
   "execution_count": null,
   "id": "eeee3135",
   "metadata": {},
   "outputs": [],
   "source": [
    "n_air = 1.0\n",
    "n_glass = 1.5\n",
    "\n",
    "# Find the critical angle\n",
    "alpha_c = np.arcsin(n_air/n_glass)\n",
    "print(\"The critical angle is \",alpha_c*180/np.pi)\n",
    "\n",
    "# Set up angle of incidence and calculate angle of refraction\n",
    "alpha_ga = np.linspace(0,np.pi/2,1001)\n",
    "# Use np.where to avoid unphysical solutions (throughout the rest of this cell)\n",
    "alpha_ga_prime = np.arcsin(np.where(alpha_ga<alpha_c,np.sin(alpha_ga)*n_glass/n_air,1.0))\n",
    "\n",
    "# Fresnel relations again; maintain values of r and t at alpha_C for angles beyond alpha_C\n",
    "denom_para_ga = np.where(alpha_ga<alpha_c,(n_air*np.cos(alpha_ga) + n_glass*np.cos(alpha_ga_prime)),1.0)\n",
    "r_para_ga = np.where(alpha_ga<alpha_c,(n_air*np.cos(alpha_ga) - n_glass*np.cos(alpha_ga_prime))/denom_para_ga,1.0)\n",
    "t_para_ga = np.where(alpha_ga<alpha_c,2.0*n_glass*np.cos(alpha_ga)/denom_para_ga,2.0*n_glass/n_air)\n",
    "\n",
    "denom_perp_ga = np.where(alpha_ga<alpha_c,(n_glass*np.cos(alpha_ga) + n_air*np.cos(alpha_ga_prime)),1.0)\n",
    "r_perp_ga = np.where(alpha_ga<alpha_c,(n_glass*np.cos(alpha_ga) - n_air*np.cos(alpha_ga_prime))/denom_perp_ga,1.0)\n",
    "t_perp_ga = np.where(alpha_ga<alpha_c,2.0*n_glass*np.cos(alpha_ga)/denom_perp_ga,2.0)"
   ]
  },
  {
   "cell_type": "code",
   "execution_count": null,
   "id": "57ee0bd7",
   "metadata": {},
   "outputs": [],
   "source": [
    "# Plot in a 2x2 layout\n",
    "fig2 = plt.figure(figsize=(12,10))\n",
    "ax_ga1 = fig2.add_subplot(2,2,1)\n",
    "ax_ga1.plot(alpha_ga,r_para_ga,label=r'$r_{\\parallel}$')\n",
    "ax_ga1.plot(alpha_ga,t_para_ga,label=r'$t_{\\parallel}$')\n",
    "ax_ga1.set_xlabel('Angle (radians)')\n",
    "ax_ga1.set_ylabel('Relative amplitude')\n",
    "ax_ga1.axhline(c='k',lw=0.5)\n",
    "ax_ga1.axvline(x=alpha_c,c='k',lw=0.5,ls=':')\n",
    "ax_ga1.legend()\n",
    "ax_ga1.set_title(\"Amplitude for waves parallel to plane of incidence\")\n",
    "ax_ga2 = fig2.add_subplot(2,2,2)\n",
    "ax_ga2.plot(alpha_ga,r_para_ga**2,label=r'$r_{\\parallel}^2$')\n",
    "ax_ga2.plot(alpha_ga,t_para_ga**2,label=r'$t_{\\parallel}^2$')\n",
    "ax_ga2.set_xlabel('Angle (radians)')\n",
    "ax_ga2.set_ylabel('Relative intensity')\n",
    "ax_ga2.axhline(c='k',lw=0.5)\n",
    "ax_ga2.axvline(x=alpha_c,c='k',lw=0.5,ls=':')\n",
    "ax_ga2.legend()\n",
    "ax_ga2.set_title(\"Intensity for waves parallel to plane of incidence\")\n",
    "ax_ga3 = fig2.add_subplot(2,2,3)\n",
    "ax_ga3.plot(alpha_ga,r_perp_ga,label=r'$r_{\\perp}$')\n",
    "ax_ga3.plot(alpha_ga,t_perp_ga,label=r'$t_{\\perp}$')\n",
    "ax_ga3.set_xlabel('Angle (radians)')\n",
    "ax_ga3.set_ylabel('Relative amplitude')\n",
    "ax_ga3.axhline(c='k',lw=0.5)\n",
    "ax_ga3.axvline(x=alpha_c,c='k',lw=0.5,ls=':')\n",
    "ax_ga3.legend()\n",
    "ax_ga3.set_title(\"Amplitude for waves perpendicular to plane of incidence\")\n",
    "ax_ga4 = fig2.add_subplot(2,2,4)\n",
    "ax_ga4.plot(alpha_ga,r_perp_ga**2,label=r'$r_{\\perp}^2$')\n",
    "ax_ga4.plot(alpha_ga,t_perp_ga**2,label=r'$t_{\\perp}^2$')\n",
    "ax_ga4.set_xlabel('Angle (radians)')\n",
    "ax_ga4.set_ylabel('Relative intensity')\n",
    "ax_ga4.axhline(c='k',lw=0.5)\n",
    "ax_ga4.axvline(x=alpha_c,c='k',lw=0.5,ls=':')\n",
    "ax_ga4.legend()\n",
    "ax_ga4.set_title(\"Intensity for waves perpendicular to plane of incidence\")\n",
    "#fig2.savefig(\"FresnelGlassAir.pdf\",format='pdf')"
   ]
  },
  {
   "cell_type": "markdown",
   "id": "5125e12a",
   "metadata": {},
   "source": [
    "These plots look potentially even more confusing than the air-glass plots! Why is the amplitude of the transmitted wave so large?  It's important to realise that the condition derived for zero transmission beyond the critical angle relied only on the *angle* of refraction, and said nothing about the amplitude.  The key quantity that must be conserved across an interface is the energy *transmitted normal to the interface* which we plot below.\n",
    "\n",
    "As we did above, we can check that the coefficients match the appropriate boundary conditions.  For the electric field perpendicular to the plane *of incidence* we can again assert that $E_0 + E^{\\prime\\prime}_0 = E^\\prime_0$ and hence that $1 + r_{\\perp} = t_{\\perp}$.\n",
    "\n",
    "For the electric field parallel to the plane of incidence, we will need to use the refractive indices, but this time we have $n = n_{glass}$ and $n^{\\prime} = n_{air}$.  We have $n\\left(E_0 + E^{\\prime\\prime}_0\\right) = n^\\prime E^\\prime_0$, so that $1 + r_{\\parallel} = n^{\\prime} t_{\\parallel}/n$.  We check that these criteria are obeyed below."
   ]
  },
  {
   "cell_type": "code",
   "execution_count": null,
   "id": "9c8dc357",
   "metadata": {},
   "outputs": [],
   "source": [
    "# Use np.max on arrays of r and t values to find the maximum deviation from zero\n",
    "perp_should_be_zero_ga = 1+r_perp_ga-t_perp_ga\n",
    "print(f\"The maximum deviation for electric fields perpendicular to the plane of incidence is {np.max(np.abs(perp_should_be_zero_ga)):12.5e}\")\n",
    "para_should_be_zero_ga = 1+r_para_ga-n_air*t_para_ga/n_glass\n",
    "print(f\"The maximum deviation for electric fields parallel to the plane of incidence is {np.max(np.abs(para_should_be_zero_ga)):12.5e}\")"
   ]
  },
  {
   "cell_type": "markdown",
   "id": "33867393",
   "metadata": {},
   "source": [
    "### Energy transmitted glass to air\n",
    "\n",
    "We calculate the energy reflected and transmitted using the formulae for reflectance and transmittance (found in the notes).  The sum of $R$ and $T$ is clearly equal to 1 for both parallel and perpendicular cases, as it should be ($R + T = 1$)."
   ]
  },
  {
   "cell_type": "code",
   "execution_count": null,
   "id": "13ace118",
   "metadata": {},
   "outputs": [],
   "source": [
    "plt.plot(alpha_ga,r_para_ga**2,label=r'$R_{\\parallel}$')\n",
    "T_para = n_air*np.cos(alpha_ga_prime)*t_para_ga**2/(n_glass*np.where(alpha_ga<np.pi/2,np.cos(alpha_ga),1.0))\n",
    "plt.plot(alpha_ga,T_para,label=r'$T_{\\parallel}$')\n",
    "plt.plot(alpha_ga,r_perp_ga**2,label=r'$R_{\\perp}$')\n",
    "T_perp = n_air*np.cos(alpha_ga_prime)*t_perp_ga**2/(n_glass*np.where(alpha_ga<np.pi/2,np.cos(alpha_ga),1.0))\n",
    "plt.plot(alpha_ga,T_perp,label=r'$T_{\\perp}$')\n",
    "plt.title(\"Energy transmission, glass to air\")\n",
    "plt.xlabel(\"Angle (radians)\")\n",
    "plt.ylabel(\"Fraction of energy\")\n",
    "plt.legend()\n",
    "plt.savefig(\"EnergyGlassAir.pdf\",format='pdf')\n",
    "#plt.ylim(0,1)"
   ]
  },
  {
   "cell_type": "markdown",
   "id": "7762c6e4",
   "metadata": {},
   "source": [
    "### Refraction angles\n",
    "\n",
    "It is instructive to plot the refraction angle deduced from Snell's law when considering transmission of light.  Note that the dotted black line shows $\\alpha^{\\prime} = \\alpha$."
   ]
  },
  {
   "cell_type": "code",
   "execution_count": null,
   "id": "b9a39ed7",
   "metadata": {},
   "outputs": [],
   "source": [
    "plt.plot(alpha_ag,alpha_ag_prime,label=r'$n<n^{\\prime}$ air to glass')\n",
    "plt.plot(alpha_ga,alpha_ga_prime,label=r'$n>n^{\\prime}$ glass to air')\n",
    "equality = np.array((0.0,np.pi/2))\n",
    "plt.plot(equality,equality,'k:',lw=1)\n",
    "plt.xlabel(r'Incident angle, $\\alpha$ in radians')\n",
    "plt.ylabel(r'Refracted angle $\\alpha^{\\prime}$ in radians')\n",
    "plt.legend()\n",
    "plt.title(\"Angles of refraction\")"
   ]
  },
  {
   "cell_type": "markdown",
   "id": "05e1bf6d",
   "metadata": {},
   "source": [
    "## Plotting the electric field from glass to air\n",
    "\n",
    "It is interesting to plot the electric field at a specific time (we will choose $t=0$ for simplicity) when going from glass to air, so that we can visualise the effect of the critical angle.  Remember that for the case set up in this notebook (glass to air) the critical angle is 41.8103 degrees."
   ]
  },
  {
   "cell_type": "code",
   "execution_count": null,
   "id": "30c38f47",
   "metadata": {},
   "outputs": [],
   "source": [
    "# Set up x and z coordinates in 2D\n",
    "xext = np.linspace(-1,1,1001)\n",
    "zext = np.linspace(-1,1,1001)\n",
    "xx, zz = np.meshgrid(xext,zext)\n",
    "\n",
    "# Set incident angle here\n",
    "incident_angle_in_degrees = 41.8\n",
    "\n",
    "alpha_i = incident_angle_in_degrees*np.pi/180.0 # Angle in degrees converted to radians\n",
    "\n",
    "# Wavevector\n",
    "kmag = 30.0 # Magnitude chosen purely to make the display sensible\n",
    "kx = kmag*np.sin(alpha_i)\n",
    "kz = -kmag*np.cos(alpha_i)\n",
    "\n",
    "# Incident electric field when z>0\n",
    "E_i = np.where(zz>=0,np.cos(kx*xx + kz*zz),0.0)\n",
    "\n",
    "# Transmitted electric field, including check for critical angle\n",
    "if alpha_i>alpha_c:\n",
    "    print(\"Critical angle exceeded; evanescent wave\")\n",
    "    decay = kmag*np.sqrt(np.sin(alpha_i)**2 - (n_air/n_glass)**2)\n",
    "    E_t = np.where(zz<0,np.exp(decay*zz)*np.cos(kx*xx),0.0)\n",
    "    k_prime_x = 0.0\n",
    "    k_prime_z = 0.0\n",
    "else:\n",
    "    alpha_t = np.arcsin(n_glass*np.sin(alpha_i)/n_air)\n",
    "    print(f\"Refraction angle is {alpha_t*180/np.pi:.3f} degrees\")\n",
    "    k_prime_mag = kmag*n_air/n_glass\n",
    "    k_prime_x = k_prime_mag*np.sin(alpha_t)\n",
    "    k_prime_z = -k_prime_mag*np.cos(alpha_t)\n",
    "    E_t = np.where(zz<0,np.cos(k_prime_x*xx + k_prime_z*zz),0.0)"
   ]
  },
  {
   "cell_type": "code",
   "execution_count": null,
   "id": "74623f2b",
   "metadata": {},
   "outputs": [],
   "source": [
    "# Plot the field as sum of incident and transmitted\n",
    "# Use the argument alpha to make the plot transparent (simplify visualisation)\n",
    "plt.imshow(E_i+E_t,extent=(-1,1,-1,1),origin='lower',cmap='RdBu',alpha=0.5)\n",
    "plt.colorbar()\n",
    "\n",
    "# Show incident and refracted wavevector directions\n",
    "kvec = np.array((kx/kmag,kz/kmag))\n",
    "kvecx = np.array((0,-kx/kmag))\n",
    "kvecz = np.array((0,-kz/kmag))\n",
    "plt.plot(kvecx,kvecz,'k')\n",
    "kpvecx = np.array((0,k_prime_x/k_prime_mag))\n",
    "kpvecz = np.array((0,k_prime_z/k_prime_mag))\n",
    "plt.plot(kpvecx,kpvecz,'k')\n",
    "\n",
    "# Label graph\n",
    "plt.xlabel('x')\n",
    "plt.ylabel('z')\n",
    "# Interface\n",
    "plt.plot((-1,1),(0,0),'k--')\n",
    "# Normal\n",
    "plt.plot((0,0),(-1,1),'k:')\n",
    "plt.title(fr\"Glass to air, $\\alpha_i=${180*alpha_i/np.pi:.1f}$^\\circ$\")\n",
    "#plt.savefig(\"P7RefrAngle41.8.pdf\",format='pdf')"
   ]
  },
  {
   "cell_type": "code",
   "execution_count": null,
   "id": "09e85cc0",
   "metadata": {},
   "outputs": [],
   "source": []
  }
 ],
 "metadata": {
  "kernelspec": {
   "display_name": "Python 3 (ipykernel)",
   "language": "python",
   "name": "python3"
  },
  "language_info": {
   "codemirror_mode": {
    "name": "ipython",
    "version": 3
   },
   "file_extension": ".py",
   "mimetype": "text/x-python",
   "name": "python",
   "nbconvert_exporter": "python",
   "pygments_lexer": "ipython3",
   "version": "3.9.13"
  }
 },
 "nbformat": 4,
 "nbformat_minor": 5
}
